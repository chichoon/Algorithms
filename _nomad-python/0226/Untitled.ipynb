{
 "cells": [
  {
   "cell_type": "code",
   "execution_count": 13,
   "metadata": {},
   "outputs": [
    {
     "name": "stdout",
     "output_type": "stream",
     "text": [
      "<title>2021년 2월 Python 취업, 일자리, 채용</title>\n",
      "[<span class=\"pn\">2</span>, <span class=\"pn\">3</span>, <span class=\"pn\">4</span>, <span class=\"pn\">5</span>]\n"
     ]
    }
   ],
   "source": [
    "import requests\n",
    "from bs4 import BeautifulSoup\n",
    "\n",
    "result = requests.get(\"https://kr.indeed.com/%EC%B7%A8%EC%97%85?as_and=python&as_phr=&as_any=&as_not=&as_ttl=&as_cmp=&jt=all&st=&salary=&radius=25&l=&fromage=any&limit=50&sort=&psf=advsrch&from=advancedsearch\")\n",
    "soup = BeautifulSoup(result.text, \"html.parser\")\n",
    "\n",
    "print(soup.title) #Github page title\n",
    "pagination = soup.find(\"div\", {\"class\": \"pagination\"})\n",
    "\n",
    "pages = pagination.find_all(\"a\")\n",
    "#결과값이 담긴 list\n",
    "\n",
    "spans = []\n",
    "for page in pages:\n",
    "    spans.append(page.find(\"span\"))\n",
    "#span이 포함된 page 내의 값들을 spans 리스트에 넣어줌\n",
    "\n",
    "del spans[-1]\n",
    "#맨 끝의 원소 삭제\n",
    "print(spans)"
   ]
  },
  {
   "cell_type": "code",
   "execution_count": 4,
   "metadata": {},
   "outputs": [
    {
     "name": "stdout",
     "output_type": "stream",
     "text": [
      "<title>chichoon (Ji Yoon Choi) · GitHub</title>\n"
     ]
    }
   ],
   "source": []
  }
 ],
 "metadata": {
  "kernelspec": {
   "display_name": "Python 3",
   "language": "python",
   "name": "python3"
  },
  "language_info": {
   "codemirror_mode": {
    "name": "ipython",
    "version": 3
   },
   "file_extension": ".py",
   "mimetype": "text/x-python",
   "name": "python",
   "nbconvert_exporter": "python",
   "pygments_lexer": "ipython3",
   "version": "3.7.4"
  }
 },
 "nbformat": 4,
 "nbformat_minor": 2
}
