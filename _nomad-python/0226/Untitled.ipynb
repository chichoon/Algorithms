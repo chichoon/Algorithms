{
 "cells": [
  {
   "cell_type": "code",
   "execution_count": 20,
   "metadata": {},
   "outputs": [
    {
     "name": "stdout",
     "output_type": "stream",
     "text": [
      "<title>2021년 2월 Python 취업, 일자리, 채용</title>\n",
      "5\n"
     ]
    }
   ],
   "source": [
    "import requests\n",
    "from bs4 import BeautifulSoup\n",
    "\n",
    "result = requests.get(\"https://kr.indeed.com/%EC%B7%A8%EC%97%85?as_and=python&as_phr=&as_any=&as_not=&as_ttl=&as_cmp=&jt=all&st=&salary=&radius=25&l=&fromage=any&limit=50&sort=&psf=advsrch&from=advancedsearch\")\n",
    "soup = BeautifulSoup(result.text, \"html.parser\")\n",
    "\n",
    "print(soup.title) #Github page title\n",
    "pagination = soup.find(\"div\", {\"class\": \"pagination\"})\n",
    "#div라는 키워드를 포함하고, class가 pagination인 요소 검색\n",
    "\n",
    "links = pagination.find_all(\"a\")\n",
    "#결과값이 담긴 list\n",
    "\n",
    "pages = []\n",
    "for link in links[:-1]: #맨 끝의 값 제외\n",
    "    pages.append(int(link.find(\"span\").string))\n",
    "#span이 포함된 page 내의 값들에 들어있는 string을 int로 변환하여 리스트에 저장\n",
    "print(pages[-1])\n",
    "#맨 마지막 원소만 출력\n",
    "\n",
    "max_page = pages[-1]\n"
   ]
  },
  {
   "cell_type": "code",
   "execution_count": 4,
   "metadata": {},
   "outputs": [
    {
     "name": "stdout",
     "output_type": "stream",
     "text": [
      "<title>chichoon (Ji Yoon Choi) · GitHub</title>\n"
     ]
    }
   ],
   "source": []
  }
 ],
 "metadata": {
  "kernelspec": {
   "display_name": "Python 3",
   "language": "python",
   "name": "python3"
  },
  "language_info": {
   "codemirror_mode": {
    "name": "ipython",
    "version": 3
   },
   "file_extension": ".py",
   "mimetype": "text/x-python",
   "name": "python",
   "nbconvert_exporter": "python",
   "pygments_lexer": "ipython3",
   "version": "3.7.4"
  }
 },
 "nbformat": 4,
 "nbformat_minor": 2
}
