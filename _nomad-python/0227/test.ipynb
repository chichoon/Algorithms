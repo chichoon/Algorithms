{
 "cells": [
  {
   "cell_type": "code",
   "execution_count": 1,
   "metadata": {},
   "outputs": [
    {
     "name": "stdout",
     "output_type": "stream",
     "text": [
      "Python Developer Jobs  - Stack Overflow\n",
      "<a class=\"s-pagination--item is-selected\" href=\"/jobs?q=python&amp;sort=i&amp;so_source=JobSearch&amp;so_medium=Internal\" title=\"page 1 of 77\">\n",
      "<span>1</span>\n",
      "</a>\n",
      "[]\n"
     ]
    }
   ],
   "source": [
    "import requests\n",
    "from bs4 import BeautifulSoup\n",
    "from indeed_func import get_jobs as get_indeed_jobs\n",
    "from sof_func import get_jobs as get_sof_jobs\n",
    "#자주 쓸 코드를 함수화하여 불러옴\n",
    "\n",
    "#indeed_jobs = get_indeed_jobs()\n",
    "#print(indeed_jobs)\n",
    "sof_jobs = get_sof_jobs()\n",
    "print(sof_jobs)"
   ]
  }
 ],
 "metadata": {
  "kernelspec": {
   "display_name": "Python 3",
   "language": "python",
   "name": "python3"
  },
  "language_info": {
   "codemirror_mode": {
    "name": "ipython",
    "version": 3
   },
   "file_extension": ".py",
   "mimetype": "text/x-python",
   "name": "python",
   "nbconvert_exporter": "python",
   "pygments_lexer": "ipython3",
   "version": "3.7.4"
  }
 },
 "nbformat": 4,
 "nbformat_minor": 2
}
